{
 "cells": [
  {
   "cell_type": "markdown",
   "id": "7c41459c",
   "metadata": {},
   "source": [
    "# Data Science Tools and Ecosystem"
   ]
  },
  {
   "cell_type": "markdown",
   "id": "d80ab984",
   "metadata": {},
   "source": [
    "In this notebook, Data Science Tools and Ecosystem are summarized."
   ]
  },
  {
   "cell_type": "markdown",
   "id": "926c2352",
   "metadata": {},
   "source": [
    "Some of the popular langauges that Data Scientists use are:\n",
    "\n",
    "1. R\n",
    "2. Python\n",
    "3. C++"
   ]
  },
  {
   "cell_type": "markdown",
   "id": "a7e40af3",
   "metadata": {},
   "source": [
    "Some of the commonly used libraries used by Data Scientists include:\n",
    "\n",
    "1. ggplot\n",
    "2. matplotlib\n",
    "3. PyTorch\n",
    "4. PyTorch\n",
    "5. SciKit-Learn\n",
    "6. NumPy\n",
    "7. TensorFlow"
   ]
  },
  {
   "cell_type": "markdown",
   "id": "5742d114",
   "metadata": {},
   "source": [
    "Some of the commonly used tools by Data Scientists include:\n",
    "\n",
    "|Data Science Tools|\n",
    "-----------------------------\n",
    "|Jupyter notebooks|\n",
    "|R Studio|\n",
    "|Anaconda|"
   ]
  },
  {
   "cell_type": "markdown",
   "id": "b851bea0",
   "metadata": {},
   "source": [
    "### Below are a few examples of evaluating arithmetic expressons in Python"
   ]
  },
  {
   "cell_type": "code",
   "execution_count": 3,
   "id": "de638ecc",
   "metadata": {},
   "outputs": [
    {
     "data": {
      "text/plain": [
       "17"
      ]
     },
     "execution_count": 3,
     "metadata": {},
     "output_type": "execute_result"
    }
   ],
   "source": [
    "#This is a simple arithmetic expression to multiply then add integers.\n",
    "\n",
    "(3*4)+5"
   ]
  },
  {
   "cell_type": "code",
   "execution_count": 4,
   "id": "57d59ae3",
   "metadata": {
    "scrolled": true
   },
   "outputs": [
    {
     "data": {
      "text/plain": [
       "3.3333333333333335"
      ]
     },
     "execution_count": 4,
     "metadata": {},
     "output_type": "execute_result"
    }
   ],
   "source": [
    "#This will convert 200 minutes to hours by dividing by 60.\n",
    "\n",
    "200/60"
   ]
  },
  {
   "cell_type": "markdown",
   "id": "af4e10f6",
   "metadata": {},
   "source": [
    "**Objectives:**\n",
    "- Create H1 headings\n",
    "- List some of the popular langauges for Data Science\n",
    "- List some of the commonly used libraries used by Data Scientists\n",
    "- List some of the commonly used tools by Data Scientists\n",
    "- Code cells to multiply and add numbers"
   ]
  },
  {
   "cell_type": "markdown",
   "id": "bce25667",
   "metadata": {},
   "source": [
    "## Author\n",
    "\n",
    "James Griffin"
   ]
  },
  {
   "cell_type": "code",
   "execution_count": null,
   "id": "7e5227eb",
   "metadata": {},
   "outputs": [],
   "source": []
  }
 ],
 "metadata": {
  "kernelspec": {
   "display_name": "Python 3 (ipykernel)",
   "language": "python",
   "name": "python3"
  },
  "language_info": {
   "codemirror_mode": {
    "name": "ipython",
    "version": 3
   },
   "file_extension": ".py",
   "mimetype": "text/x-python",
   "name": "python",
   "nbconvert_exporter": "python",
   "pygments_lexer": "ipython3",
   "version": "3.11.4"
  }
 },
 "nbformat": 4,
 "nbformat_minor": 5
}
